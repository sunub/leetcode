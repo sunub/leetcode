{
 "cells": [
  {
   "attachments": {},
   "cell_type": "markdown",
   "metadata": {},
   "source": [
    "# Dynamic Programming"
   ]
  },
  {
   "attachments": {},
   "cell_type": "markdown",
   "metadata": {},
   "source": [
    "55. Jump Game"
   ]
  },
  {
   "cell_type": "code",
   "execution_count": 17,
   "metadata": {},
   "outputs": [
    {
     "data": {
      "text/plain": [
       "False"
      ]
     },
     "execution_count": 17,
     "metadata": {},
     "output_type": "execute_result"
    }
   ],
   "source": [
    "class Solution(object):\n",
    "    def canJump(self, nums: list[int]):\n",
    "        last_position = len(nums) - 1\n",
    "\n",
    "        for i in range(len(nums) - 2, -1, -1):\n",
    "            if (i + nums[i]) >= last_position:\n",
    "                last_position = i\n",
    "        return last_position == 0\n",
    "\n",
    "s = Solution()\n",
    "s.canJump([3, 2, 1, 0, 4])"
   ]
  }
 ],
 "metadata": {
  "kernelspec": {
   "display_name": "sunub",
   "language": "python",
   "name": "python3"
  },
  "language_info": {
   "codemirror_mode": {
    "name": "ipython",
    "version": 3
   },
   "file_extension": ".py",
   "mimetype": "text/x-python",
   "name": "python",
   "nbconvert_exporter": "python",
   "pygments_lexer": "ipython3",
   "version": "3.10.9"
  },
  "orig_nbformat": 4,
  "vscode": {
   "interpreter": {
    "hash": "4c531ea32920b3e952cbd3efb90e9be83b5e525cfdfffe033116268f6ee517f0"
   }
  }
 },
 "nbformat": 4,
 "nbformat_minor": 2
}
